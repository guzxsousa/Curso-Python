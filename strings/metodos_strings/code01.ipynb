{
 "cells": [
  {
   "cell_type": "markdown",
   "id": "61597d51",
   "metadata": {},
   "source": [
    "### Métodos de String\n"
   ]
  },
  {
   "cell_type": "code",
   "execution_count": 4,
   "id": "6d84691e",
   "metadata": {},
   "outputs": [
    {
     "name": "stdout",
     "output_type": "stream",
     "text": [
      "Bom dia Guthierry\n"
     ]
    }
   ],
   "source": [
    "# .capitalize() -> Primeira letra maiúscula\n",
    "\n",
    "nome = input(\"Informe seu nome: \").casefold()\n",
    "\n",
    "print(f\"Bom dia {nome.capitalize()}\")"
   ]
  },
  {
   "cell_type": "code",
   "execution_count": 6,
   "id": "3c9546d5",
   "metadata": {},
   "outputs": [
    {
     "name": "stdout",
     "output_type": "stream",
     "text": [
      "oi, tudo bem? seja bem vindooo\n"
     ]
    }
   ],
   "source": [
    "# .casefold() -> Transforma todas as letras em minúsculas\n",
    "# .lower() - Possui a mesma função\n",
    "\n",
    "frase = \"OI, Tudo Bem? Seja BEM VINDOOO\"\n",
    "\n",
    "print(frase.casefold())"
   ]
  },
  {
   "cell_type": "code",
   "execution_count": 7,
   "id": "2c0e46a7",
   "metadata": {},
   "outputs": [
    {
     "name": "stdout",
     "output_type": "stream",
     "text": [
      "'@' aparece 2 vezes no email 123@@gamil.com\n"
     ]
    }
   ],
   "source": [
    "# .count() -> Quantas vezes um char ou string aparece dentro de outra string\n",
    "\n",
    "email = \"123@@gamil.com\"\n",
    "\n",
    "print(f\"'@' aparece {email.count('@')} vezes no email {email}\")\n"
   ]
  },
  {
   "cell_type": "code",
   "execution_count": 11,
   "id": "43868c31",
   "metadata": {},
   "outputs": [
    {
     "name": "stdout",
     "output_type": "stream",
     "text": [
      "3\n"
     ]
    }
   ],
   "source": [
    "# .find() -> Procura/encontra um texto dentro de outro e retorna o índice\n",
    "\n",
    "email = \"123@@gmail.com\"\n",
    "\n",
    "print(email.find(\"@\") )\n",
    "\n"
   ]
  },
  {
   "cell_type": "code",
   "execution_count": 13,
   "id": "2073ee71",
   "metadata": {},
   "outputs": [
    {
     "name": "stdout",
     "output_type": "stream",
     "text": [
      "João--da--Silva--Sousa\n"
     ]
    }
   ],
   "source": [
    "# .replace() -> Substitui um texto por outro.\n",
    "\n",
    "nome_completo = \"João da Silva Sousa\"\n",
    "\n",
    "print(nome_completo.replace(\" \", \"--\"))\n",
    "\n"
   ]
  },
  {
   "cell_type": "code",
   "execution_count": 14,
   "id": "ebd95280",
   "metadata": {},
   "outputs": [
    {
     "name": "stdout",
     "output_type": "stream",
     "text": [
      "['Guthierry']\n",
      "['', 'r', 'r', '']\n"
     ]
    }
   ],
   "source": [
    "# .split() -> Separa uma string de acordo com um delimitador.\n",
    "\n",
    "nome1 = \"Guthierry\"\n",
    "\n",
    "nome2 = \"arara\"\n",
    "\n",
    "print(nome1.split())\n",
    "\n",
    "print(nome2.split(\"a\"))\n",
    "\n"
   ]
  },
  {
   "cell_type": "code",
   "execution_count": 15,
   "id": "d9fe95b2",
   "metadata": {},
   "outputs": [
    {
     "name": "stdout",
     "output_type": "stream",
     "text": [
      "Ola\n"
     ]
    }
   ],
   "source": [
    "# .strip() -> Retira caracteres indejados do texto. Por padrão tira espaços 'extras' no inicio e no final\n",
    "\n",
    "texto = \"   Ola    \"\n",
    "print(texto.strip())\n"
   ]
  },
  {
   "cell_type": "code",
   "execution_count": 16,
   "id": "29c2922e",
   "metadata": {},
   "outputs": [
    {
     "name": "stdout",
     "output_type": "stream",
     "text": [
      "GUTHIERRY DE SOUSA\n"
     ]
    }
   ],
   "source": [
    "#.upper() -> Coloca o texto todo em maiúsculo\n",
    "\n",
    "nome = \"Guthierry de Sousa\"\n",
    "\n",
    "print(nome.upper())"
   ]
  }
 ],
 "metadata": {
  "kernelspec": {
   "display_name": "Python 3",
   "language": "python",
   "name": "python3"
  },
  "language_info": {
   "codemirror_mode": {
    "name": "ipython",
    "version": 3
   },
   "file_extension": ".py",
   "mimetype": "text/x-python",
   "name": "python",
   "nbconvert_exporter": "python",
   "pygments_lexer": "ipython3",
   "version": "3.13.2"
  }
 },
 "nbformat": 4,
 "nbformat_minor": 5
}
